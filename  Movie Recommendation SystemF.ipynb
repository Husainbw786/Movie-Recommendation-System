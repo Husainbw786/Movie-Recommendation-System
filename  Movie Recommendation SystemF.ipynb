{
 "cells": [
  {
   "cell_type": "code",
   "execution_count": 2,
   "id": "b9c71a86",
   "metadata": {},
   "outputs": [],
   "source": [
    "import numpy as np\n",
    "import pandas as pd"
   ]
  },
  {
   "cell_type": "markdown",
   "id": "72581bde",
   "metadata": {},
   "source": [
    "### Importing CSV files using pandas."
   ]
  },
  {
   "cell_type": "code",
   "execution_count": 3,
   "id": "8f329b73",
   "metadata": {},
   "outputs": [],
   "source": [
    "credits_df = pd.read_csv(\"credits.csv\")\n",
    "movies_df = pd.read_csv(\"movies.csv\")"
   ]
  },
  {
   "cell_type": "markdown",
   "id": "fd23159b",
   "metadata": {},
   "source": [
    "**By this below commands you can fell full files at once**"
   ]
  },
  {
   "cell_type": "code",
   "execution_count": 4,
   "id": "8571d2f4",
   "metadata": {},
   "outputs": [],
   "source": [
    "pd.set_option('display.max_columns',None)\n",
    "pd.set_option('display.max_rows',None)\n"
   ]
  },
  {
   "cell_type": "markdown",
   "id": "6721d81e",
   "metadata": {},
   "source": [
    "### Merge Both the CSV file so that you can easily access data from one file. "
   ]
  },
  {
   "cell_type": "code",
   "execution_count": 5,
   "id": "0894b777",
   "metadata": {},
   "outputs": [],
   "source": [
    "movies_df = movies_df.merge(credits_df,on = 'title')"
   ]
  },
  {
   "cell_type": "code",
   "execution_count": 6,
   "id": "6c6ab1d2",
   "metadata": {},
   "outputs": [
    {
     "data": {
      "text/plain": [
       "(4808, 23)"
      ]
     },
     "execution_count": 6,
     "metadata": {},
     "output_type": "execute_result"
    }
   ],
   "source": [
    "movies_df.shape"
   ]
  },
  {
   "cell_type": "markdown",
   "id": "87471aaf",
   "metadata": {},
   "source": [
    "### Heading: Selecting Relevant Columns in the Movie DataFrame**\n",
    "\n",
    "**Explanation:\n",
    "In this code snippet, we are selecting specific columns from the movie DataFrame named \"movies_df\". The selected columns are 'id', 'title', 'overview', 'genres', 'keywords', 'cast', and 'crew'.** \n",
    "\n",
    "**This step is crucial because it helps us focus on the essential information needed for our movie recommendation system. By narrowing down the columns, we reduce the complexity of the data and extract only the relevant features required for generating recommendations.**"
   ]
  },
  {
   "cell_type": "code",
   "execution_count": 7,
   "id": "6791b88a",
   "metadata": {},
   "outputs": [],
   "source": [
    "movies_df = movies_df[['id','title','overview','genres','keywords','cast','crew']]"
   ]
  },
  {
   "cell_type": "code",
   "execution_count": 8,
   "id": "7b9d57d6",
   "metadata": {},
   "outputs": [
    {
     "name": "stdout",
     "output_type": "stream",
     "text": [
      "<class 'pandas.core.frame.DataFrame'>\n",
      "Int64Index: 4808 entries, 0 to 4807\n",
      "Data columns (total 7 columns):\n",
      " #   Column    Non-Null Count  Dtype \n",
      "---  ------    --------------  ----- \n",
      " 0   id        4808 non-null   int64 \n",
      " 1   title     4808 non-null   object\n",
      " 2   overview  4805 non-null   object\n",
      " 3   genres    4808 non-null   object\n",
      " 4   keywords  4808 non-null   object\n",
      " 5   cast      4808 non-null   object\n",
      " 6   crew      4808 non-null   object\n",
      "dtypes: int64(1), object(6)\n",
      "memory usage: 300.5+ KB\n"
     ]
    }
   ],
   "source": [
    "movies_df.info()"
   ]
  },
  {
   "cell_type": "markdown",
   "id": "d8da321a",
   "metadata": {},
   "source": [
    "### Heading: Handling Missing Values in the Movie DataFrame\n",
    "\n",
    "Explanation:\n",
    "In this code snippet, we are performing two operations on the movie DataFrame, \"movies_df\".\n",
    "\n",
    "1. Checking for Null Values:\n",
    "The expression \"movies_df.isnull()\" returns a DataFrame with the same shape as \"movies_df\", where each cell contains a Boolean value indicating whether the corresponding value in \"movies_df\" is null or not. By calling \".sum()\" on this DataFrame, we obtain the sum of null values in each column. This helps us identify columns with missing data.\n",
    "\n",
    "2. Dropping Rows with Missing Values:\n",
    "After identifying the null values, we use the \"dropna()\" method to remove any rows containing null values from the DataFrame. The parameter \"inplace=True\" ensures that the changes are applied directly to the \"movies_df\" DataFrame, modifying it in place.\n",
    "\n",
    "By performing these operations, we handle missing values in the movie DataFrame, ensuring that our recommendation system works with complete and valid data."
   ]
  },
  {
   "cell_type": "code",
   "execution_count": 9,
   "id": "4ec2d2b3",
   "metadata": {},
   "outputs": [
    {
     "data": {
      "text/plain": [
       "id          0\n",
       "title       0\n",
       "overview    3\n",
       "genres      0\n",
       "keywords    0\n",
       "cast        0\n",
       "crew        0\n",
       "dtype: int64"
      ]
     },
     "execution_count": 9,
     "metadata": {},
     "output_type": "execute_result"
    }
   ],
   "source": [
    "movies_df.isnull().sum()"
   ]
  },
  {
   "cell_type": "code",
   "execution_count": 10,
   "id": "1e150ea6",
   "metadata": {},
   "outputs": [],
   "source": [
    "movies_df.dropna(inplace=True)"
   ]
  },
  {
   "cell_type": "code",
   "execution_count": 11,
   "id": "de5fc947",
   "metadata": {},
   "outputs": [
    {
     "data": {
      "text/plain": [
       "0"
      ]
     },
     "execution_count": 11,
     "metadata": {},
     "output_type": "execute_result"
    }
   ],
   "source": [
    "movies_df.duplicated().sum()"
   ]
  },
  {
   "cell_type": "markdown",
   "id": "d08d96d9",
   "metadata": {},
   "source": [
    "### Heading: Accessing Genres of the First Movie\n",
    "\n",
    "Explanation:\n",
    "In this code snippet, we retrieve the genres of the first movie in the DataFrame. By using the index-based selection function \"iloc[0]\", we access the first row of the movie DataFrame, and \".genres\" allows us to specifically retrieve the genres associated with that movie.\n",
    "\n",
    "This code is essential for extracting genre information, enabling us to understand and analyze the genres of individual movies in our recommendation system."
   ]
  },
  {
   "cell_type": "code",
   "execution_count": 12,
   "id": "45a9236d",
   "metadata": {},
   "outputs": [
    {
     "data": {
      "text/plain": [
       "'[{\"id\": 28, \"name\": \"Action\"}, {\"id\": 12, \"name\": \"Adventure\"}, {\"id\": 14, \"name\": \"Fantasy\"}, {\"id\": 878, \"name\": \"Science Fiction\"}]'"
      ]
     },
     "execution_count": 12,
     "metadata": {},
     "output_type": "execute_result"
    }
   ],
   "source": [
    "movies_df.iloc[0].genres\n"
   ]
  },
  {
   "cell_type": "markdown",
   "id": "8a70edf3",
   "metadata": {},
   "source": [
    "### Heading: Converting Genre and Keyword Columns to Lists\n",
    "\n",
    "Explanation:\n",
    "In this code snippet, we convert the 'genres' and 'keywords' columns in the movie DataFrame from strings to lists.\n",
    "\n",
    "To accomplish this, we define a function called 'convert' that uses the 'ast.literal_eval' function to evaluate the string as a literal expression. The function then extracts the 'name' attribute from each item in the evaluated list and appends it to a new list.\n",
    "\n",
    "We apply the 'convert' function to the 'genres' and 'keywords' columns using the 'apply' method. This transforms the string-based columns into lists.\n",
    "\n",
    "Finally, we display the updated movie DataFrame using the 'head' method, showcasing the converted 'genres' and 'keywords' columns.\n",
    "\n",
    "This code snippet plays a vital role in preparing the data for analysis and processing in the movie recommendation system by converting the columns into a more suitable list format.# "
   ]
  },
  {
   "cell_type": "code",
   "execution_count": 13,
   "id": "2db0547d",
   "metadata": {},
   "outputs": [],
   "source": [
    "import ast"
   ]
  },
  {
   "cell_type": "code",
   "execution_count": 14,
   "id": "55fd4373",
   "metadata": {},
   "outputs": [],
   "source": [
    "def convert(obj):\n",
    "    L=[]\n",
    "    for i in ast.literal_eval(obj):\n",
    "        L.append(i['name'])\n",
    "    return L\n",
    "    "
   ]
  },
  {
   "cell_type": "code",
   "execution_count": 15,
   "id": "e1bb48f7",
   "metadata": {},
   "outputs": [],
   "source": [
    "movies_df['genres'] = movies_df['genres'].apply(convert)\n",
    "movies_df['keywords'] = movies_df['keywords'].apply(convert)\n"
   ]
  },
  {
   "cell_type": "markdown",
   "id": "59a4f650",
   "metadata": {},
   "source": [
    "### Heading: Extracting Top 3 Names from Cast Column\n",
    "\n",
    "Explanation:\n",
    "The 'convert3' function extracts the top 3 names from the 'cast' column in the movie DataFrame. It uses 'ast.literal_eval' to evaluate the string as a literal expression, appends the names to a list until 3 names have been added, and then stops.\n",
    "\n",
    "Applying the 'convert3' function to the 'cast' column using the 'apply' method updates the column with the extracted top 3 names.\n",
    "\n",
    "This code snippet is essential for narrowing down the cast to the top 3 names in the movie recommendation system, focusing on the main actors/actresses."
   ]
  },
  {
   "cell_type": "code",
   "execution_count": 72,
   "id": "dabc295b",
   "metadata": {},
   "outputs": [],
   "source": [
    "def convert3(obj):\n",
    "    L=[]\n",
    "    count = 0\n",
    "    for i in ast.literal_eval(obj):\n",
    "        if count != 3:\n",
    "            L.append(i['name'])\n",
    "            count += 1\n",
    "        else:\n",
    "            break\n",
    "    return L"
   ]
  },
  {
   "cell_type": "code",
   "execution_count": 73,
   "id": "8a53913d",
   "metadata": {},
   "outputs": [],
   "source": [
    "movies_df['cast'] = movies_df['cast'].apply(convert3)"
   ]
  },
  {
   "cell_type": "markdown",
   "id": "ef229cd1",
   "metadata": {},
   "source": [
    "###   Heading: Extracting Director Names from Crew Column\n",
    "\n",
    "Explanation:\n",
    "The 'fetch_director' function extracts the names of directors from the 'crew' column in the movie DataFrame. It iterates over the evaluated list obtained from 'ast.literal_eval(obj)', checks if the 'job' attribute is 'Director', and appends the director's name to a list.\n",
    "\n",
    "By applying the 'fetch_director' function to the 'crew' column using the 'apply' method, we update the column with the extracted director names.\n",
    "\n",
    "This code snippet is essential for capturing and storing the names of directors in the movie recommendation system, enabling us to consider the director's impact when generating recommendations."
   ]
  },
  {
   "cell_type": "code",
   "execution_count": 75,
   "id": "1ba79057",
   "metadata": {},
   "outputs": [],
   "source": [
    "def fetch_director(obj):\n",
    "    L=[]\n",
    "    for i in ast.literal_eval(obj):\n",
    "        if i['job'] == 'Director':\n",
    "            L.append(i['name'])\n",
    "    return L\n",
    "    "
   ]
  },
  {
   "cell_type": "code",
   "execution_count": 76,
   "id": "29125a39",
   "metadata": {},
   "outputs": [],
   "source": [
    "movies_df['crew'] = movies_df['crew'].apply(fetch_director)"
   ]
  },
  {
   "cell_type": "code",
   "execution_count": 78,
   "id": "3e8a08de",
   "metadata": {},
   "outputs": [
    {
     "data": {
      "text/plain": [
       "'In the 22nd century, a paraplegic Marine is dispatched to the moon Pandora on a unique mission, but becomes torn between following orders and protecting an alien civilization.'"
      ]
     },
     "execution_count": 78,
     "metadata": {},
     "output_type": "execute_result"
    }
   ],
   "source": [
    "movies_df.overview[0]"
   ]
  },
  {
   "cell_type": "markdown",
   "id": "1e3c6662",
   "metadata": {},
   "source": [
    "### Heading: Splitting Overview Text into Tokens\n",
    "\n",
    "Explanation:\n",
    "In this code snippet, we use the 'apply' method to apply a lambda function to the 'overview' column in the movie DataFrame, 'movies_df'.\n",
    "\n",
    "The lambda function takes each string in the 'overview' column, 'x', and applies the 'split()' method to it. By using 'split()' without any arguments, it splits the string into a list of tokens based on whitespace.\n",
    "\n",
    "By assigning the result back to the 'overview' column, we update it with the tokenized representation of the original text.\n",
    "\n",
    "This code snippet is crucial for transforming the overview text into a list of tokens, which can be used for various text-based operations, such as text analysis or building a recommendation system that considers the content of movie overviews."
   ]
  },
  {
   "cell_type": "code",
   "execution_count": 79,
   "id": "f9de60e3",
   "metadata": {},
   "outputs": [],
   "source": [
    "movies_df['overview'] = movies_df['overview'].apply(lambda x:x.split())"
   ]
  },
  {
   "cell_type": "markdown",
   "id": "7ead652b",
   "metadata": {},
   "source": [
    "### Heading: Removing Spaces from Genre, Keyword, Cast, and Crew Columns\n",
    "\n",
    "Explanation:\n",
    "In this code snippet, we use the 'apply' method along with lambda functions to modify multiple columns in the movie DataFrame, 'movies_df'.\n",
    "\n",
    "For each column ('genres', 'keywords', 'cast', 'crew'), the lambda function iterates over each element, 'x', in the column and applies a list comprehension. Within the list comprehension, we use the 'replace()' method to remove spaces (' ') from each element in the list.\n",
    "\n",
    "By assigning the modified lists back to their respective columns, we update the DataFrame with the modified versions that have spaces removed from the individual elements.\n",
    "\n",
    "This code snippet is crucial for cleaning the genre, keyword, cast, and crew columns by removing spaces, ensuring consistency and accuracy in the data."
   ]
  },
  {
   "cell_type": "code",
   "execution_count": 50,
   "id": "387fb7d7",
   "metadata": {},
   "outputs": [],
   "source": [
    "movies_df['genres'] = movies_df['genres'].apply(lambda x:[i.replace (\" \",\"\") for i in x])\n",
    "movies_df['keywords'] = movies_df['keywords'].apply(lambda x:[i.replace (\" \",\"\") for i in x])\n",
    "movies_df['cast'] = movies_df['cast'].apply(lambda x:[i.replace (\" \",\"\") for i in x])\n",
    "movies_df['crew'] = movies_df['crew'].apply(lambda x:[i.replace (\" \",\"\") for i in x])\n",
    "\n"
   ]
  },
  {
   "cell_type": "markdown",
   "id": "6cb8c58a",
   "metadata": {},
   "source": [
    "### Heading: Creating a 'tags' Column by Combining Multiple Columns\n",
    "\n",
    "Explanation:\n",
    "In this code snippet, we create a new column called 'tags' in the movie DataFrame, 'movies_df', by combining multiple existing columns.\n",
    "\n",
    "By using the '+' operator, we concatenate the values from the 'overview', 'genres', 'keywords', 'cast', and 'crew' columns. This creates a new column, 'tags', that contains a combination of information from these columns.\n",
    "\n",
    "The purpose of creating the 'tags' column is to consolidate relevant information from different aspects of the movie, such as the overview, genres, keywords, cast, and crew. This consolidated information can be used for various tasks, such as content-based filtering or generating movie recommendations based on shared characteristics.\n",
    "\n",
    "This code snippet plays a vital role in aggregating and organizing key information in a single column, facilitating further analysis and recommendation generation in the movie recommendation system."
   ]
  },
  {
   "cell_type": "code",
   "execution_count": 82,
   "id": "97d9e551",
   "metadata": {},
   "outputs": [],
   "source": [
    "movies_df['tags'] = movies_df['overview']+movies_df['genres']+movies_df['keywords']+movies_df['cast']+movies_df['crew']"
   ]
  },
  {
   "cell_type": "code",
   "execution_count": 84,
   "id": "14269cd6",
   "metadata": {},
   "outputs": [],
   "source": [
    "new_df = movies_df[['id','title','tags']]"
   ]
  },
  {
   "cell_type": "markdown",
   "id": "22580214",
   "metadata": {},
   "source": [
    "### Heading: Joining Tags into a Single String\n",
    "\n",
    "Explanation:\n",
    "In this code snippet, we use the 'apply' method along with a lambda function to modify the 'tags' column in the DataFrame, 'new_df'.\n",
    "\n",
    "The lambda function takes each element, 'x', in the 'tags' column and applies the 'join()' method to it. By using 'join()' with a space (' '), it concatenates the individual elements within 'x' into a single string, separating them with spaces.\n",
    "\n",
    "By assigning the modified 'tags' column back to itself, we update the DataFrame with the new version where the tags are represented as a single string.\n",
    "\n",
    "This code snippet is crucial for converting the 'tags' column from a list of individual elements into a cohesive and space-separated string representation. This format is often more convenient for further text analysis or recommendation generation in the movie recommendation system."
   ]
  },
  {
   "cell_type": "code",
   "execution_count": 86,
   "id": "94a45be7",
   "metadata": {},
   "outputs": [
    {
     "name": "stderr",
     "output_type": "stream",
     "text": [
      "/var/folders/bf/zr_l9rm55db3b4flx3css55m0000gn/T/ipykernel_5866/2266712157.py:1: SettingWithCopyWarning: \n",
      "A value is trying to be set on a copy of a slice from a DataFrame.\n",
      "Try using .loc[row_indexer,col_indexer] = value instead\n",
      "\n",
      "See the caveats in the documentation: https://pandas.pydata.org/pandas-docs/stable/user_guide/indexing.html#returning-a-view-versus-a-copy\n",
      "  new_df['tags'] = new_df['tags'].apply(lambda x:' '.join(x))\n"
     ]
    }
   ],
   "source": [
    "new_df['tags'] = new_df['tags'].apply(lambda x:' '.join(x))"
   ]
  },
  {
   "cell_type": "code",
   "execution_count": 88,
   "id": "2af270da",
   "metadata": {},
   "outputs": [
    {
     "data": {
      "text/plain": [
       "'In the 22nd century, a paraplegic Marine is dispatched to the moon Pandora on a unique mission, but becomes torn between following orders and protecting an alien civilization. Action Adventure Fantasy Science Fiction culture clash future space war space colony society space travel futuristic romance space alien tribe alien planet cgi marine soldier battle love affair anti war power relations mind and soul 3d Sam Worthington Zoe Saldana Sigourney Weaver James Cameron'"
      ]
     },
     "execution_count": 88,
     "metadata": {},
     "output_type": "execute_result"
    }
   ],
   "source": [
    "new_df['tags'][0]"
   ]
  },
  {
   "cell_type": "markdown",
   "id": "98129e82",
   "metadata": {},
   "source": [
    "### All Data is Converted in LowerCase "
   ]
  },
  {
   "cell_type": "code",
   "execution_count": 89,
   "id": "fdcf5d1e",
   "metadata": {},
   "outputs": [
    {
     "name": "stderr",
     "output_type": "stream",
     "text": [
      "/var/folders/bf/zr_l9rm55db3b4flx3css55m0000gn/T/ipykernel_5866/44384777.py:1: SettingWithCopyWarning: \n",
      "A value is trying to be set on a copy of a slice from a DataFrame.\n",
      "Try using .loc[row_indexer,col_indexer] = value instead\n",
      "\n",
      "See the caveats in the documentation: https://pandas.pydata.org/pandas-docs/stable/user_guide/indexing.html#returning-a-view-versus-a-copy\n",
      "  new_df['tags'] = new_df['tags'].apply(lambda X:X.lower())\n"
     ]
    }
   ],
   "source": [
    "new_df['tags'] = new_df['tags'].apply(lambda X:X.lower())"
   ]
  },
  {
   "cell_type": "code",
   "execution_count": 90,
   "id": "5f15fb89",
   "metadata": {},
   "outputs": [
    {
     "data": {
      "text/plain": [
       "'in the 22nd century, a paraplegic marine is dispatched to the moon pandora on a unique mission, but becomes torn between following orders and protecting an alien civilization. action adventure fantasy science fiction culture clash future space war space colony society space travel futuristic romance space alien tribe alien planet cgi marine soldier battle love affair anti war power relations mind and soul 3d sam worthington zoe saldana sigourney weaver james cameron'"
      ]
     },
     "execution_count": 90,
     "metadata": {},
     "output_type": "execute_result"
    }
   ],
   "source": [
    "new_df['tags'][0]"
   ]
  },
  {
   "cell_type": "markdown",
   "id": "d66132d9",
   "metadata": {},
   "source": [
    "### Heading: Creating Count Vectors for Tags Column\n",
    "\n",
    "Explanation:\n",
    "In this code snippet, we import the 'CountVectorizer' class from the 'sklearn.feature_extraction.text' module. The 'CountVectorizer' is a text feature extraction technique that converts text into a matrix of token counts.\n",
    "\n",
    "We initialize an instance of 'CountVectorizer' called 'cv' with two parameters: 'max_features' and 'stop_words'. 'max_features' specifies the maximum number of features (words) to include in the vocabulary, and 'stop_words' specifies that common English words should be excluded from the vocabulary.\n",
    "\n",
    "Next, we use the 'fit_transform' method of 'cv' to transform the 'tags' column of the DataFrame, 'new_df', into a matrix representation. This matrix is converted to a NumPy array using 'toarray()' method.\n",
    "\n",
    "By calling '.shape' on the resulting array, we obtain the shape of the matrix, which represents the number of documents (rows) and the number of features (columns).\n",
    "\n",
    "We then assign the transformed matrix to a variable called 'vectors' by calling 'fit_transform' method again on 'cv' with the 'tags' column.\n",
    "\n",
    "This code snippet is essential for converting the text-based 'tags' column into a matrix of count vectors, which represents the frequency of each word (feature) in each document (tag). These count vectors can be used as input for various machine learning algorithms or for further analysis in the movie recommendation system."
   ]
  },
  {
   "cell_type": "code",
   "execution_count": 111,
   "id": "0ca82987",
   "metadata": {},
   "outputs": [],
   "source": [
    "from sklearn.feature_extraction.text import CountVectorizer\n",
    "\n",
    "cv = CountVectorizer(max_features=5000, stop_words='english')\n",
    " "
   ]
  },
  {
   "cell_type": "code",
   "execution_count": 112,
   "id": "e33a815b",
   "metadata": {},
   "outputs": [
    {
     "data": {
      "text/plain": [
       "(4805, 5000)"
      ]
     },
     "execution_count": 112,
     "metadata": {},
     "output_type": "execute_result"
    }
   ],
   "source": [
    "cv.fit_transform(new_df['tags']).toarray().shape\n"
   ]
  },
  {
   "cell_type": "code",
   "execution_count": 113,
   "id": "e7206d37",
   "metadata": {},
   "outputs": [],
   "source": [
    "vectors = cv.fit_transform(new_df['tags']).toarray()\n"
   ]
  },
  {
   "cell_type": "code",
   "execution_count": 114,
   "id": "1c286cf9",
   "metadata": {},
   "outputs": [
    {
     "data": {
      "text/plain": [
       "array([0, 0, 0, ..., 0, 0, 0])"
      ]
     },
     "execution_count": 114,
     "metadata": {},
     "output_type": "execute_result"
    }
   ],
   "source": [
    "vectors[0]"
   ]
  },
  {
   "cell_type": "code",
   "execution_count": null,
   "id": "66f909d6",
   "metadata": {},
   "outputs": [],
   "source": []
  },
  {
   "cell_type": "markdown",
   "id": "66a3f02e",
   "metadata": {},
   "source": [
    "### Heading: Stemming Words in Tags Column\n",
    "\n",
    "Explanation:\n",
    "In this code snippet, we import the 'PorterStemmer' class from the 'nltk.stem.porter' module. The 'PorterStemmer' is a popular stemming algorithm that reduces words to their base or root form.\n",
    "\n",
    "We define a function called 'stem' that takes a string of text as input. Within the function, we initialize an empty list called 'y'. We then iterate over each word in the text, obtained by splitting the string. For each word, we apply stemming using the 'PorterStemmer' by calling the 'stem' method on the 'ps' object. The stemmed word is then appended to the 'y' list.\n",
    "\n",
    "After iterating through all the words, we use the 'join' method to combine the stemmed words in the 'y' list into a single string, separated by spaces.\n",
    "\n",
    "Finally, we apply the 'stem' function to the 'tags' column of the 'new_df' DataFrame using the 'apply' method. This updates the 'tags' column with the stemmed version of the text.\n",
    "\n",
    "This code snippet is important for applying stemming to the words in the 'tags' column. Stemming reduces words to their base or root form, which can help in reducing the vocabulary size and capturing the essential meaning of words in the movie recommendation system."
   ]
  },
  {
   "cell_type": "code",
   "execution_count": 116,
   "id": "2236a161",
   "metadata": {},
   "outputs": [],
   "source": [
    "import nltk"
   ]
  },
  {
   "cell_type": "code",
   "execution_count": 120,
   "id": "67909134",
   "metadata": {},
   "outputs": [],
   "source": [
    "from nltk.stem.porter import PorterStemmer\n",
    "ps = PorterStemmer()"
   ]
  },
  {
   "cell_type": "code",
   "execution_count": 121,
   "id": "13f530d8",
   "metadata": {},
   "outputs": [],
   "source": [
    "def stem(text):\n",
    "    y=[]\n",
    "    for i in text.split():\n",
    "        y.append(ps.stem(i))\n",
    "    return \" \".join(y)"
   ]
  },
  {
   "cell_type": "code",
   "execution_count": 122,
   "id": "30e6f471",
   "metadata": {},
   "outputs": [
    {
     "name": "stderr",
     "output_type": "stream",
     "text": [
      "/var/folders/bf/zr_l9rm55db3b4flx3css55m0000gn/T/ipykernel_5866/3213734980.py:1: SettingWithCopyWarning: \n",
      "A value is trying to be set on a copy of a slice from a DataFrame.\n",
      "Try using .loc[row_indexer,col_indexer] = value instead\n",
      "\n",
      "See the caveats in the documentation: https://pandas.pydata.org/pandas-docs/stable/user_guide/indexing.html#returning-a-view-versus-a-copy\n",
      "  new_df['tags'] = new_df['tags'].apply(stem)\n"
     ]
    }
   ],
   "source": [
    "new_df['tags'] = new_df['tags'].apply(stem)"
   ]
  },
  {
   "cell_type": "markdown",
   "id": "4dd514d9",
   "metadata": {},
   "source": [
    "### Heading: Computing Cosine Similarity between Vectors\n",
    "\n",
    "Explanation:\n",
    "In this code snippet, we import the 'cosine_similarity' function from the 'sklearn.metrics.pairwise' module. The 'cosine_similarity' function calculates the cosine similarity between vectors, which is a measure of similarity between two vectors based on the cosine of the angle between them.\n",
    "\n",
    "We apply the 'cosine_similarity' function to the 'vectors' matrix, which represents the count vectors of the 'tags' column in the 'new_df' DataFrame. By passing 'vectors' as the input to the function, it computes the pairwise cosine similarity between all the vectors.\n",
    "\n",
    "The output is a square matrix where each element represents the cosine similarity between the corresponding pair of vectors. The diagonal elements represent the cosine similarity of each vector with itself, which is always 1.\n",
    "\n",
    "This code snippet is crucial for computing the cosine similarity between vectors, which can be used in various recommendation systems to measure the similarity between movies based on their tags. It helps in identifying movies that are closely related or have similar characteristics, aiding in generating accurate and relevant recommendations."
   ]
  },
  {
   "cell_type": "code",
   "execution_count": 123,
   "id": "fc342c14",
   "metadata": {},
   "outputs": [],
   "source": [
    "from sklearn.metrics.pairwise import cosine_similarity\n"
   ]
  },
  {
   "cell_type": "code",
   "execution_count": 124,
   "id": "5c563357",
   "metadata": {},
   "outputs": [
    {
     "data": {
      "text/plain": [
       "array([[1.        , 0.06885304, 0.04948717, ..., 0.03142697, 0.05410018,\n",
       "        0.        ],\n",
       "       [0.06885304, 1.        , 0.04259177, ..., 0.04057204, 0.        ,\n",
       "        0.        ],\n",
       "       [0.04948717, 0.04259177, 1.        , ..., 0.01944039, 0.08924215,\n",
       "        0.        ],\n",
       "       ...,\n",
       "       [0.03142697, 0.04057204, 0.01944039, ..., 1.        , 0.06375767,\n",
       "        0.03207501],\n",
       "       [0.05410018, 0.        , 0.08924215, ..., 0.06375767, 1.        ,\n",
       "        0.03681051],\n",
       "       [0.        , 0.        , 0.        , ..., 0.03207501, 0.03681051,\n",
       "        1.        ]])"
      ]
     },
     "execution_count": 124,
     "metadata": {},
     "output_type": "execute_result"
    }
   ],
   "source": [
    "cosine_similarity(vectors)"
   ]
  },
  {
   "cell_type": "code",
   "execution_count": 125,
   "id": "d2a43f9c",
   "metadata": {},
   "outputs": [
    {
     "data": {
      "text/plain": [
       "(4805, 4805)"
      ]
     },
     "execution_count": 125,
     "metadata": {},
     "output_type": "execute_result"
    }
   ],
   "source": [
    "cosine_similarity(vectors).shape"
   ]
  },
  {
   "cell_type": "code",
   "execution_count": 126,
   "id": "848059d9",
   "metadata": {},
   "outputs": [],
   "source": [
    "similarity = cosine_sim ilarity(vectors)"
   ]
  },
  {
   "cell_type": "code",
   "execution_count": 128,
   "id": "6343b9a3",
   "metadata": {},
   "outputs": [
    {
     "data": {
      "text/plain": [
       "(4805,)"
      ]
     },
     "execution_count": 128,
     "metadata": {},
     "output_type": "execute_result"
    }
   ],
   "source": [
    "similarity[0].shape"
   ]
  },
  {
   "cell_type": "markdown",
   "id": "2f9508c8",
   "metadata": {},
   "source": [
    "### Heading: Retrieving Top Similar Movies\n",
    "\n",
    "Explanation:\n",
    "In this code snippet, we retrieve the top similar movies based on the cosine similarity scores.\n",
    "\n",
    "The 'enumerate(similarity[0])' function creates an iterator that combines the indices and similarity scores of the first row of the 'similarity' matrix. The 'list' function is then used to convert the iterator into a list.\n",
    "\n",
    "Next, we use the 'sorted' function to sort the list in descending order based on the similarity scores. The 'reverse=True' parameter ensures that the list is sorted in descending order. The 'key=lambda x: x[1]' parameter specifies that the sorting should be based on the second element (similarity score) of each tuple in the list.\n",
    "\n",
    "Finally, we use list slicing '[1:6]' to retrieve the top 5 similar movies. This returns a sublist containing tuples representing the index and similarity score of each similar movie.\n",
    "\n",
    "The purpose of this code snippet is to identify the most similar movies to a given movie. By sorting the similarity scores and retrieving the top similar movies, we can generate recommendations based on the similarity of movie tags.\n",
    "\n",
    "Note: The code assumes that 'similarity' is a variable containing the cosine similarity matrix, and it retrieves the top 5 similar movies based on the first row of the matrix."
   ]
  },
  {
   "cell_type": "code",
   "execution_count": 130,
   "id": "90daa57d",
   "metadata": {},
   "outputs": [
    {
     "data": {
      "text/plain": [
       "[(2409, 0.4839354795704658),\n",
       " (1537, 0.43622020338771716),\n",
       " (3162, 0.4278406467922595),\n",
       " (838, 0.398216086792002),\n",
       " (4335, 0.39207842352784267)]"
      ]
     },
     "execution_count": 130,
     "metadata": {},
     "output_type": "execute_result"
    }
   ],
   "source": [
    "sorted(list(enumerate(similarity[0])), reverse= True, key = lambda x:x[1])[1:6]"
   ]
  },
  {
   "cell_type": "markdown",
   "id": "04e9c740",
   "metadata": {},
   "source": [
    "### Heading: Movie Recommendation Function\n",
    "\n",
    "Explanation:\n",
    "The code snippet presents a function called 'recommend' that generates movie recommendations based on a given movie.\n",
    "\n",
    "The function takes a movie name as input and performs the following steps:\n",
    "\n",
    "1. It first checks if the given movie exists in the 'title' column of the 'new_df' DataFrame. If the movie is not found, it prints a message stating that the movie was not found and returns.\n",
    "\n",
    "2. If the movie is found in the dataset, it retrieves the index of the movie in the 'new_df' DataFrame using the 'index' method.\n",
    "\n",
    "3. It then accesses the corresponding row in the 'similarity' matrix, which represents the cosine similarity scores for the given movie.\n",
    "\n",
    "4. Using the 'sorted' function, it sorts the similarity scores in descending order and retrieves the top 5 similar movies. The movies are represented as tuples containing the index and similarity score.\n",
    "\n",
    "5. Finally, it iterates over the retrieved movie list and prints the titles of the recommended movies.\n",
    "\n",
    "The purpose of this code snippet is to provide a function that recommends similar movies based on the input movie. It utilizes the cosine similarity scores and the 'new_df' DataFrame to identify and display the top 5 movies that are most similar to the input movie."
   ]
  },
  {
   "cell_type": "code",
   "execution_count": 145,
   "id": "9f071464",
   "metadata": {},
   "outputs": [],
   "source": [
    "def recommend(movie):\n",
    "    if movie not in new_df['title'].values:\n",
    "        print(f\"Movie '{movie}' not found in the dataset.\")\n",
    "        return\n",
    "    \n",
    "    movie_index = new_df[new_df['title'] == movie].index[0]\n",
    "    distances = similarity[movie_index]\n",
    "    movie_list = sorted(list(enumerate(distances)), reverse=True, key=lambda x: x[1])[1:6]\n",
    "\n",
    "    for i in movie_list:\n",
    "        print(new_df.iloc[i[0]].title)\n"
   ]
  },
  {
   "cell_type": "code",
   "execution_count": 146,
   "id": "0c01aa13",
   "metadata": {},
   "outputs": [
    {
     "name": "stdout",
     "output_type": "stream",
     "text": [
      "Aliens\n",
      "Moonraker\n",
      "Alien\n",
      "Alien³\n",
      "Silent Running\n"
     ]
    }
   ],
   "source": [
    "recommend('Avatar')"
   ]
  },
  {
   "cell_type": "code",
   "execution_count": 147,
   "id": "04048064",
   "metadata": {
    "scrolled": true
   },
   "outputs": [
    {
     "name": "stdout",
     "output_type": "stream",
     "text": [
      "Iron Man 2\n",
      "Iron Man 3\n",
      "Avengers: Age of Ultron\n",
      "Captain America: Civil War\n",
      "The Avengers\n"
     ]
    }
   ],
   "source": [
    "recommend('Iron Man')"
   ]
  },
  {
   "cell_type": "code",
   "execution_count": 149,
   "id": "55c3e622",
   "metadata": {},
   "outputs": [
    {
     "name": "stdout",
     "output_type": "stream",
     "text": [
      "Movie 'Liar Lia' not found in the dataset.\n"
     ]
    }
   ],
   "source": [
    "recommend('Liar Lia')"
   ]
  },
  {
   "cell_type": "code",
   "execution_count": null,
   "id": "9b97386f",
   "metadata": {},
   "outputs": [],
   "source": []
  }
 ],
 "metadata": {
  "kernelspec": {
   "display_name": "Python 3 (ipykernel)",
   "language": "python",
   "name": "python3"
  },
  "language_info": {
   "codemirror_mode": {
    "name": "ipython",
    "version": 3
   },
   "file_extension": ".py",
   "mimetype": "text/x-python",
   "name": "python",
   "nbconvert_exporter": "python",
   "pygments_lexer": "ipython3",
   "version": "3.10.9"
  }
 },
 "nbformat": 4,
 "nbformat_minor": 5
}
